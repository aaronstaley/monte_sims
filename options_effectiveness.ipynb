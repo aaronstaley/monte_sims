{
 "worksheets": [
  {
   "cells": [
    {
     "cell_type": "code",
     "execution_count": null,
     "metadata": {},
     "outputs": [],
     "input": [
      "\"\"\"Calculate the effectiveness of various options strategies\"\"\"\n",
      "\n",
      "# CORE simulation parameters:\n",
      "MEAN = 0.077  # expected yearly log returns (8%?)\n",
      "MARKET_VOLATILITY = .19 # market annual volatility\n",
      "STOCK_VOLATILITY = 0.58 # stock of interest standard deviation\n",
      "STOCK_CORREL = 0.46 # correlation of stock movement to market\n",
      "  # nb: beta can be derived from above 3 numbers\n",
      "\n",
      "# First we generate correlated GBM representing stock and broader-market\n",
      "import numpy as np\n",
      "import gbm\n",
      "import alpha_beta\n",
      "import matplotlib.pyplot as plt\n",
      "from monte_carlo import monte_carlo\n",
      " \n",
      "# Two data points are interesting -- 2 month out and 4.75 months out\n",
      "sim_times = [2/12.0, 4.75/12.0]\n",
      "\n",
      "mean = np.ones(shape=(1,2)) * MEAN\n",
      "stdev = np.ones(shape=(1,2)) * MARKET_VOLATILITY\n",
      "stdev[0][1] = STOCK_VOLATILITY\n",
      "corr_matrix = gbm.correl_matrix_from_corr(STOCK_CORREL)\n",
      "\n",
      "# run simulation\n",
      "sim_data = []\n",
      "for sim_time in sim_times:\n",
      "    S = monte_carlo(gbm.multi_generate_brownian_motion_single_step,\n",
      "                    tries=700000, # huge amount of tries needed.. \n",
      "                    total_time=sim_time,\n",
      "                    mean=mean,\n",
      "                    stdev=stdev,\n",
      "                    corr_matrix=corr_matrix\n",
      "                    )\n",
      "    sim_data.append(S)"
     ],
     "language": "python",
     "prompt_number": 1
    },
    {
     "cell_type": "code",
     "execution_count": null,
     "metadata": {},
     "outputs": [
      {
       "stream": "stdout",
       "output_type": "stream",
       "text": [
        "\n",
        "2.00 months out\n",
        "SPY"
       ]
      },
      {
       "stream": "stdout",
       "output_type": "stream",
       "text": [
        "\n",
        "return 1.29%"
       ]
      },
      {
       "stream": "stdout",
       "output_type": "stream",
       "text": [
        "\n",
        "volatility 7.75%"
       ]
      },
      {
       "stream": "stdout",
       "output_type": "stream",
       "text": [
        "\n",
        "Sharpe 14.23%"
       ]
      },
      {
       "stream": "stdout",
       "output_type": "stream",
       "text": [
        "\n",
        "\n",
        "stock\n",
        "return 1.38%"
       ]
      },
      {
       "stream": "stdout",
       "output_type": "stream",
       "text": [
        "\n",
        "volatility 23.74%"
       ]
      },
      {
       "stream": "stdout",
       "output_type": "stream",
       "text": [
        "\n",
        "Sharpe 5.04%"
       ]
      },
      {
       "stream": "stdout",
       "output_type": "stream",
       "text": [
        "\n",
        "\n",
        "unhedged blend concentration 50%:"
       ]
      },
      {
       "stream": "stdout",
       "output_type": "stream",
       "text": [
        "\n",
        "return 1.33%"
       ]
      },
      {
       "stream": "stdout",
       "output_type": "stream",
       "text": [
        "\n",
        "volatility 14.01%"
       ]
      },
      {
       "stream": "stdout",
       "output_type": "stream",
       "text": [
        "\n",
        "Sharpe 8.21%"
       ]
      },
      {
       "stream": "stdout",
       "output_type": "stream",
       "text": [
        "\n",
        "\n",
        "collared:"
       ]
      },
      {
       "stream": "stdout",
       "output_type": "stream",
       "text": [
        "\n",
        "return 0.90%"
       ]
      },
      {
       "stream": "stdout",
       "output_type": "stream",
       "text": [
        "\n",
        "volatility 6.40%"
       ]
      },
      {
       "stream": "stdout",
       "output_type": "stream",
       "text": [
        "\n",
        "Sharpe 11.24%"
       ]
      },
      {
       "stream": "stdout",
       "output_type": "stream",
       "text": [
        "\n",
        "\n",
        "puts:"
       ]
      },
      {
       "stream": "stdout",
       "output_type": "stream",
       "text": [
        "\n",
        "return 1.77%"
       ]
      },
      {
       "stream": "stdout",
       "output_type": "stream",
       "text": [
        "\n",
        "volatility 10.67%"
       ]
      },
      {
       "stream": "stdout",
       "output_type": "stream",
       "text": [
        "\n",
        "Sharpe 14.84%"
       ]
      },
      {
       "stream": "stdout",
       "output_type": "stream",
       "text": [
        "\n",
        "\n",
        "calls:"
       ]
      },
      {
       "stream": "stdout",
       "output_type": "stream",
       "text": [
        "\n",
        "return 0.47%"
       ]
      },
      {
       "stream": "stdout",
       "output_type": "stream",
       "text": [
        "\n",
        "volatility 10.32%"
       ]
      },
      {
       "stream": "stdout",
       "output_type": "stream",
       "text": [
        "\n",
        "Sharpe 2.74%"
       ]
      },
      {
       "stream": "stdout",
       "output_type": "stream",
       "text": [
        "\n",
        "\n",
        "4.75 months out"
       ]
      },
      {
       "stream": "stdout",
       "output_type": "stream",
       "text": [
        "\n",
        "SPY"
       ]
      },
      {
       "stream": "stdout",
       "output_type": "stream",
       "text": [
        "\n",
        "return 3.05%"
       ]
      },
      {
       "stream": "stdout",
       "output_type": "stream",
       "text": [
        "\n",
        "volatility 11.95%"
       ]
      },
      {
       "stream": "stdout",
       "output_type": "stream",
       "text": [
        "\n",
        "Sharpe 21.90%"
       ]
      },
      {
       "stream": "stdout",
       "output_type": "stream",
       "text": [
        "\n",
        "\n",
        "stock\n",
        "return 3.22%"
       ]
      },
      {
       "stream": "stdout",
       "output_type": "stream",
       "text": [
        "\n",
        "volatility 36.59%"
       ]
      },
      {
       "stream": "stdout",
       "output_type": "stream",
       "text": [
        "\n",
        "Sharpe 7.60%"
       ]
      },
      {
       "stream": "stdout",
       "output_type": "stream",
       "text": [
        "\n",
        "\n",
        "unhedged blend concentration 50%:"
       ]
      },
      {
       "stream": "stdout",
       "output_type": "stream",
       "text": [
        "\n",
        "return 3.14%"
       ]
      },
      {
       "stream": "stdout",
       "output_type": "stream",
       "text": [
        "\n",
        "volatility 21.42%"
       ]
      },
      {
       "stream": "stdout",
       "output_type": "stream",
       "text": [
        "\n",
        "Sharpe 12.60%"
       ]
      },
      {
       "stream": "stdout",
       "output_type": "stream",
       "text": [
        "\n",
        "\n",
        "collared:"
       ]
      },
      {
       "stream": "stdout",
       "output_type": "stream",
       "text": [
        "\n",
        "return 2.11%"
       ]
      },
      {
       "stream": "stdout",
       "output_type": "stream",
       "text": [
        "\n",
        "volatility 8.66%"
       ]
      },
      {
       "stream": "stdout",
       "output_type": "stream",
       "text": [
        "\n",
        "Sharpe 19.35%"
       ]
      },
      {
       "stream": "stdout",
       "output_type": "stream",
       "text": [
        "\n",
        "\n",
        "puts:"
       ]
      },
      {
       "stream": "stdout",
       "output_type": "stream",
       "text": [
        "\n",
        "return 3.60%"
       ]
      },
      {
       "stream": "stdout",
       "output_type": "stream",
       "text": [
        "\n",
        "volatility 15.94%"
       ]
      },
      {
       "stream": "stdout",
       "output_type": "stream",
       "text": [
        "\n",
        "Sharpe 19.85%"
       ]
      },
      {
       "stream": "stdout",
       "output_type": "stream",
       "text": [
        "\n",
        "\n",
        "calls:"
       ]
      },
      {
       "stream": "stdout",
       "output_type": "stream",
       "text": [
        "\n",
        "return 1.64%"
       ]
      },
      {
       "stream": "stdout",
       "output_type": "stream",
       "text": [
        "\n",
        "volatility 15.09%"
       ]
      },
      {
       "stream": "stdout",
       "output_type": "stream",
       "text": [
        "\n",
        "Sharpe 7.97%"
       ]
      },
      {
       "stream": "stdout",
       "output_type": "stream",
       "text": [
        "\n"
       ]
      }
     ],
     "input": [
      "# In this cell we do the math\n",
      "\n",
      "import finance_helpers as fh\n",
      "\n",
      "CONCENTRATION = 0.5 # portfolio concentration\n",
      "\n",
      "COLLAR_MIN = 0.928\n",
      "\n",
      "def print_stats(return_set, risk_free_rate):\n",
      "    print 'return %0.2f%%' % (100*fh.average_log_return(return_set))\n",
      "    print 'volatility %0.2f%%' % (100*fh.volatility_of_returns(return_set))\n",
      "    print 'Sharpe %0.2f%%'% (100*fh.sharpe_ratio(return_set, risk_free_rate))\n",
      "    \n",
      "\n",
      "def analyze(return_set, collar_max, premium, risk_free_rate=fh.RISK_FREE_RATE,):\n",
      "    \"\"\"analyze the returns\"\"\"\n",
      "    #print return_set\n",
      "    spy_returns, stock_returns = zip(*return_set)\n",
      "    print 'SPY'\n",
      "    print_stats(spy_returns, risk_free_rate)\n",
      "    \n",
      "    print '\\nstock'\n",
      "    print_stats(stock_returns, risk_free_rate)\n",
      "    \n",
      "    blended = fh.blend_returns(stock_returns, spy_returns, CONCENTRATION)\n",
      "    print '\\nunhedged blend concentration %2.f%%:' % (100*CONCENTRATION)\n",
      "    print_stats(blended, risk_free_rate)\n",
      "    \n",
      "    \n",
      "    collared_returns = fh.apply_collar(stock_returns, min_strike=COLLAR_MIN,\n",
      "                                    max_strike=collar_max)\n",
      "    blended = fh.blend_returns(collared_returns, spy_returns, CONCENTRATION)\n",
      "    print '\\ncollared:'\n",
      "    print_stats(blended, risk_free_rate)\n",
      "    \n",
      "    \n",
      "    # premium multiplier: We assume the premium from call is invested in SPY and from put, removed\n",
      "    premium_multiplier = premium*CONCENTRATION/(1-CONCENTRATION)\n",
      "    \n",
      "    # TODO: All these premiums are only for 2 months!\n",
      "    \n",
      "    # pure puts    \n",
      "    put_returns = fh.apply_protected_put(stock_returns, \n",
      "                            strike=COLLAR_MIN)\n",
      "    spy_returns_op_cost = [ret * (1-premium_multiplier) for ret in spy_returns]\n",
      "    blended = fh.blend_returns(put_returns, spy_returns_op_cost, CONCENTRATION)\n",
      "    print '\\nputs:'\n",
      "    print_stats(blended, risk_free_rate)\n",
      "    \n",
      "    # pure calls\n",
      "    call_returns = fh.apply_covered_call(stock_returns, \n",
      "                            strike=collar_max)\n",
      "    spy_returns_excess = [ret * (1+premium_multiplier) for ret in spy_returns]\n",
      "    blended = fh.blend_returns(call_returns, spy_returns_excess, CONCENTRATION)\n",
      "    print '\\ncalls:'\n",
      "    print_stats(blended, risk_free_rate)\n",
      "    \n",
      "    \n",
      "# zero priced collar w.r.t. collar_min\n",
      "collar_max =  {\n",
      "    2/12.0 : 1.097,\n",
      "    4.75/12.0 : 1.119\n",
      "}\n",
      "premium = {\n",
      "    2/12.0 : 0.0458,\n",
      "    4.75/12.0 : 0.0840\n",
      "}\n",
      "\n",
      "for sim_time, return_set in zip(sim_times, sim_data):\n",
      "    print '\\n%0.2f months out' % (sim_time * 12)\n",
      "    analyze(return_set, collar_max=collar_max[sim_time],\n",
      "            premium=premium[sim_time],\n",
      "            risk_free_rate=fh.RISK_FREE_RATE*sim_time)    \n",
      "\n",
      "    "
     ],
     "language": "python",
     "prompt_number": 3
    },
    {
     "cell_type": "code",
     "execution_count": null,
     "metadata": {},
     "outputs": [],
     "input": [],
     "language": "python"
    }
   ]
  }
 ],
 "cells": [],
 "metadata": {
  "kernelspec": {
   "display_name": "Python 2",
   "language": "python",
   "name": "python2"
  },
  "language_info": {
   "codemirror_mode": {
    "name": "ipython",
    "version": 2
   },
   "file_extension": ".py",
   "mimetype": "text/x-python",
   "name": "python",
   "nbconvert_exporter": "python",
   "pygments_lexer": "ipython2",
   "version": "2.7.6"
  },
  "name": "",
  "signature": "sha256:ca08cbbc726c8557feeef85efb64d6cf2bb8de8e8ef1fab25bc19d9d444e4757"
 },
 "nbformat": 4,
 "nbformat_minor": 0
}
