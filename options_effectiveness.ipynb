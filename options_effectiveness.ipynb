{
 "metadata": {
  "kernelspec": {
   "display_name": "Python 2",
   "language": "python",
   "name": "python2"
  },
  "language_info": {
   "codemirror_mode": {
    "name": "ipython",
    "version": 2
   },
   "file_extension": ".py",
   "mimetype": "text/x-python",
   "name": "python",
   "nbconvert_exporter": "python",
   "pygments_lexer": "ipython2",
   "version": "2.7.6"
  },
  "name": "",
  "signature": "sha256:c35ffe59a1c34bef81642c0770a0c171e8eff4f1dfdca0f77c03547f7e9d63d5"
 },
 "nbformat": 3,
 "nbformat_minor": 0,
 "worksheets": [
  {
   "cells": [
    {
     "cell_type": "code",
     "collapsed": true,
     "input": [
      "\"\"\"Calculate the effectiveness of various options strategies\"\"\"\n",
      "\n",
      "# CORE simulation parameters:\n",
      "MEAN = 0.077  # expected yearly log returns (8%?)\n",
      "MARKET_VOLATILITY = .19 # market annual volatility  (try .17?)\n",
      "STOCK_VOLATILITY = 0.53 # stock of interest standard deviation  (try .51?)\n",
      "STOCK_CORREL = 0.46 # correlation of stock movement to market\n",
      "  # nb: beta can be derived from above 3 numbers\n",
      "\n",
      "# First we generate correlated GBM representing stock and broader-market\n",
      "import numpy as np\n",
      "import gbm\n",
      "import alpha_beta\n",
      "import matplotlib.pyplot as plt\n",
      "from monte_carlo import monte_carlo\n",
      " \n",
      "# Two data points are interesting -- 2 month out and 4.75 months out\n",
      "sim_times = [2/12.0, 4.75/12.0]\n",
      "\n",
      "mean = np.ones(shape=(1,2)) * MEAN\n",
      "stdev = np.ones(shape=(1,2)) * MARKET_VOLATILITY\n",
      "stdev[0][1] = STOCK_VOLATILITY\n",
      "corr_matrix = gbm.correl_matrix_from_corr(STOCK_CORREL)\n",
      "\n",
      "# run simulation\n",
      "sim_data = []\n",
      "for sim_time in sim_times:\n",
      "    S = monte_carlo(gbm.multi_generate_brownian_motion_single_step,\n",
      "                    tries=700000, # huge amount of tries needed.. \n",
      "                    total_time=sim_time,\n",
      "                    mean=mean,\n",
      "                    stdev=stdev,\n",
      "                    corr_matrix=corr_matrix\n",
      "                    )\n",
      "    sim_data.append(S)"
     ],
     "language": "python",
     "metadata": {},
     "outputs": [],
     "prompt_number": 6
    },
    {
     "cell_type": "code",
     "collapsed": false,
     "input": [
      "# In this cell we do the math\n",
      "\n",
      "import finance_helpers as fh\n",
      "\n",
      "CONCENTRATION = 0.2 # portfolio concentration\n",
      "\n",
      "COLLAR_MIN = 0.928\n",
      "\n",
      "def print_stats(return_set, risk_free_rate):\n",
      "    print 'return %0.2f%%' % (100*fh.average_log_return(return_set))\n",
      "    print 'volatility %0.2f%%' % (100*fh.volatility_of_returns(return_set))\n",
      "    print 'Sharpe %0.2f%%'% (100*fh.sharpe_ratio(return_set, risk_free_rate))\n",
      "    \n",
      "\n",
      "def analyze(return_set, collar_max, premium, risk_free_rate=fh.RISK_FREE_RATE,):\n",
      "    \"\"\"analyze the returns\"\"\"\n",
      "    #print return_set\n",
      "    # TODO: Look at SPY options and sort out how data works.\n",
      "    \n",
      "    spy_returns, stock_returns = zip(*return_set)\n",
      "    print 'SPY'\n",
      "    print_stats(spy_returns, risk_free_rate)\n",
      "    \n",
      "    print '\\nstock'\n",
      "    print_stats(stock_returns, risk_free_rate)\n",
      "    \n",
      "    blended = fh.blend_returns(stock_returns, spy_returns, CONCENTRATION)\n",
      "    print '\\nunhedged blend concentration %2.f%%:' % (100*CONCENTRATION)\n",
      "    print_stats(blended, risk_free_rate)\n",
      "    \n",
      "    \n",
      "    collared_returns = fh.apply_collar(stock_returns, min_strike=COLLAR_MIN,\n",
      "                                    max_strike=collar_max)\n",
      "    blended = fh.blend_returns(collared_returns, spy_returns, CONCENTRATION)\n",
      "    print '\\ncollared:'\n",
      "    print_stats(blended, risk_free_rate)\n",
      "    \n",
      "    \n",
      "    # premium multiplier: We assume the premium from call is invested in SPY and from put, removed\n",
      "    premium_multiplier = premium*CONCENTRATION/(1-CONCENTRATION)\n",
      "    \n",
      "    # TODO: All these premiums are only for 2 months!\n",
      "    \n",
      "    # pure puts    \n",
      "    put_returns = fh.apply_protected_put(stock_returns, \n",
      "                            strike=COLLAR_MIN)\n",
      "    spy_returns_op_cost = [ret * (1-premium_multiplier) for ret in spy_returns]\n",
      "    blended = fh.blend_returns(put_returns, spy_returns_op_cost, CONCENTRATION)\n",
      "    print '\\nputs:'\n",
      "    print_stats(blended, risk_free_rate)\n",
      "    \n",
      "    # pure calls\n",
      "    call_returns = fh.apply_covered_call(stock_returns, \n",
      "                            strike=collar_max)\n",
      "    spy_returns_excess = [ret * (1+premium_multiplier) for ret in spy_returns]\n",
      "    blended = fh.blend_returns(call_returns, spy_returns_excess, CONCENTRATION)\n",
      "    print '\\ncalls:'\n",
      "    print_stats(blended, risk_free_rate)\n",
      "    \n",
      "    \n",
      "# zero priced collar w.r.t. collar_min\n",
      "collar_max =  {\n",
      "    2/12.0 : 1.097,\n",
      "    4.75/12.0 : 1.119\n",
      "}\n",
      "premium = {\n",
      "    2/12.0 : 0.0458,\n",
      "    4.75/12.0 : 0.0840\n",
      "}\n",
      "\n",
      "for sim_time, return_set in zip(sim_times, sim_data):\n",
      "    print '\\n%0.2f months out' % (sim_time * 12)\n",
      "    analyze(return_set, collar_max=collar_max[sim_time],\n",
      "            premium=premium[sim_time],\n",
      "            risk_free_rate=fh.RISK_FREE_RATE*sim_time)    \n",
      "\n",
      "    "
     ],
     "language": "python",
     "metadata": {},
     "outputs": [
      {
       "output_type": "stream",
       "stream": "stdout",
       "text": [
        "\n",
        "2.00 months out\n",
        "SPY"
       ]
      },
      {
       "output_type": "stream",
       "stream": "stdout",
       "text": [
        "\n",
        "return 1.29%"
       ]
      },
      {
       "output_type": "stream",
       "stream": "stdout",
       "text": [
        "\n",
        "volatility 7.75%"
       ]
      },
      {
       "output_type": "stream",
       "stream": "stdout",
       "text": [
        "\n",
        "Sharpe 14.22%"
       ]
      },
      {
       "output_type": "stream",
       "stream": "stdout",
       "text": [
        "\n",
        "\n",
        "stock\n",
        "return 1.37%"
       ]
      },
      {
       "output_type": "stream",
       "stream": "stdout",
       "text": [
        "\n",
        "volatility 21.70%"
       ]
      },
      {
       "output_type": "stream",
       "stream": "stdout",
       "text": [
        "\n",
        "Sharpe 5.47%"
       ]
      },
      {
       "output_type": "stream",
       "stream": "stdout",
       "text": [
        "\n",
        "\n",
        "unhedged blend concentration 20%:"
       ]
      },
      {
       "output_type": "stream",
       "stream": "stdout",
       "text": [
        "\n",
        "return 1.30%"
       ]
      },
      {
       "output_type": "stream",
       "stream": "stdout",
       "text": [
        "\n",
        "volatility 9.06%"
       ]
      },
      {
       "output_type": "stream",
       "stream": "stdout",
       "text": [
        "\n",
        "Sharpe 12.35%"
       ]
      },
      {
       "output_type": "stream",
       "stream": "stdout",
       "text": [
        "\n",
        "\n",
        "collared:"
       ]
      },
      {
       "output_type": "stream",
       "stream": "stdout",
       "text": [
        "\n",
        "return 1.15%"
       ]
      },
      {
       "output_type": "stream",
       "stream": "stdout",
       "text": [
        "\n",
        "volatility 6.94%"
       ]
      },
      {
       "output_type": "stream",
       "stream": "stdout",
       "text": [
        "\n",
        "Sharpe 13.88%"
       ]
      },
      {
       "output_type": "stream",
       "stream": "stdout",
       "text": [
        "\n",
        "\n",
        "puts:"
       ]
      },
      {
       "output_type": "stream",
       "stream": "stdout",
       "text": [
        "\n",
        "return 1.33%"
       ]
      },
      {
       "output_type": "stream",
       "stream": "stdout",
       "text": [
        "\n",
        "volatility 8.05%"
       ]
      },
      {
       "output_type": "stream",
       "stream": "stdout",
       "text": [
        "\n",
        "Sharpe 14.27%"
       ]
      },
      {
       "output_type": "stream",
       "stream": "stdout",
       "text": [
        "\n",
        "\n",
        "calls:"
       ]
      },
      {
       "output_type": "stream",
       "stream": "stdout",
       "text": [
        "\n",
        "return 1.12%"
       ]
      },
      {
       "output_type": "stream",
       "stream": "stdout",
       "text": [
        "\n",
        "volatility 7.97%"
       ]
      },
      {
       "output_type": "stream",
       "stream": "stdout",
       "text": [
        "\n",
        "Sharpe 11.73%"
       ]
      },
      {
       "output_type": "stream",
       "stream": "stdout",
       "text": [
        "\n",
        "\n",
        "4.75 months out"
       ]
      },
      {
       "output_type": "stream",
       "stream": "stdout",
       "text": [
        "\n",
        "SPY"
       ]
      },
      {
       "output_type": "stream",
       "stream": "stdout",
       "text": [
        "\n",
        "return 3.05%"
       ]
      },
      {
       "output_type": "stream",
       "stream": "stdout",
       "text": [
        "\n",
        "volatility 11.95%"
       ]
      },
      {
       "output_type": "stream",
       "stream": "stdout",
       "text": [
        "\n",
        "Sharpe 21.89%"
       ]
      },
      {
       "output_type": "stream",
       "stream": "stdout",
       "text": [
        "\n",
        "\n",
        "stock\n",
        "return 3.20%"
       ]
      },
      {
       "output_type": "stream",
       "stream": "stdout",
       "text": [
        "\n",
        "volatility 33.44%"
       ]
      },
      {
       "output_type": "stream",
       "stream": "stdout",
       "text": [
        "\n",
        "Sharpe 8.25%"
       ]
      },
      {
       "output_type": "stream",
       "stream": "stdout",
       "text": [
        "\n",
        "\n",
        "unhedged blend concentration 20%:"
       ]
      },
      {
       "output_type": "stream",
       "stream": "stdout",
       "text": [
        "\n",
        "return 3.08%"
       ]
      },
      {
       "output_type": "stream",
       "stream": "stdout",
       "text": [
        "\n",
        "volatility 13.96%"
       ]
      },
      {
       "output_type": "stream",
       "stream": "stdout",
       "text": [
        "\n",
        "Sharpe 18.95%"
       ]
      },
      {
       "output_type": "stream",
       "stream": "stdout",
       "text": [
        "\n",
        "\n",
        "collared:"
       ]
      },
      {
       "output_type": "stream",
       "stream": "stdout",
       "text": [
        "\n",
        "return 2.70%"
       ]
      },
      {
       "output_type": "stream",
       "stream": "stdout",
       "text": [
        "\n",
        "volatility 10.37%"
       ]
      },
      {
       "output_type": "stream",
       "stream": "stdout",
       "text": [
        "\n",
        "Sharpe 21.86%"
       ]
      },
      {
       "output_type": "stream",
       "stream": "stdout",
       "text": [
        "\n",
        "\n",
        "puts:"
       ]
      },
      {
       "output_type": "stream",
       "stream": "stdout",
       "text": [
        "\n",
        "return 3.04%"
       ]
      },
      {
       "output_type": "stream",
       "stream": "stdout",
       "text": [
        "\n",
        "volatility 12.25%"
       ]
      },
      {
       "output_type": "stream",
       "stream": "stdout",
       "text": [
        "\n",
        "Sharpe 21.28%"
       ]
      },
      {
       "output_type": "stream",
       "stream": "stdout",
       "text": [
        "\n",
        "\n",
        "calls:"
       ]
      },
      {
       "output_type": "stream",
       "stream": "stdout",
       "text": [
        "\n",
        "return 2.74%"
       ]
      },
      {
       "output_type": "stream",
       "stream": "stdout",
       "text": [
        "\n",
        "volatility 12.08%"
       ]
      },
      {
       "output_type": "stream",
       "stream": "stdout",
       "text": [
        "\n",
        "Sharpe 19.08%"
       ]
      },
      {
       "output_type": "stream",
       "stream": "stdout",
       "text": [
        "\n"
       ]
      }
     ],
     "prompt_number": 7
    },
    {
     "cell_type": "code",
     "collapsed": false,
     "input": [],
     "language": "python",
     "metadata": {},
     "outputs": []
    }
   ],
   "metadata": {}
  }
 ]
}