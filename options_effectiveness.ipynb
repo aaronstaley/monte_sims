{
 "cells": [
  {
   "cell_type": "code",
   "execution_count": 16,
   "metadata": {
    "collapsed": true
   },
   "outputs": [],
   "source": [
    "\"\"\"Calculate the effectiveness of various options strategies\"\"\"\n",
    "\n",
    "# CORE simulation parameters:\n",
    "MEAN = 0.077  # expected yearly log returns (8%?)\n",
    "MARKET_VOLATILITY = .19 # market annual volatility\n",
    "STOCK_VOLATILITY = 0.58 # stock of interest standard deviation\n",
    "STOCK_CORREL = 0.46 # correlation of stock movement to market\n",
    "  # nb: beta can be derived from above 3 numbers\n",
    "\n",
    "# First we generate correlated GBM representing stock and broader-market\n",
    "import numpy as np\n",
    "import gbm\n",
    "import alpha_beta\n",
    "import matplotlib.pyplot as plt\n",
    "from monte_carlo import monte_carlo\n",
    " \n",
    "# Two data points are interesting -- 2 month out and 4.75 months out\n",
    "sim_times = [2/12.0, 4.75/12.0]\n",
    "\n",
    "mean = np.ones(shape=(1,2)) * MEAN\n",
    "stdev = np.ones(shape=(1,2)) * MARKET_VOLATILITY\n",
    "stdev[0][1] = STOCK_VOLATILITY\n",
    "corr_matrix = gbm.correl_matrix_from_corr(STOCK_CORREL)\n",
    "\n",
    "# run simulation\n",
    "sim_data = []\n",
    "for sim_time in sim_times:\n",
    "    S = monte_carlo(gbm.multi_generate_brownian_motion_single_step,\n",
    "                    tries=700000, # huge amount of tries needed.. \n",
    "                    total_time=sim_time,\n",
    "                    mean=mean,\n",
    "                    stdev=stdev,\n",
    "                    corr_matrix=corr_matrix\n",
    "                    )\n",
    "    sim_data.append(S)"
   ]
  },
  {
   "cell_type": "code",
   "execution_count": 23,
   "metadata": {},
   "outputs": [
    {
     "name": "stdout",
     "output_type": "stream",
     "text": [
      "\n2.00 months out\nSPY"
     ]
    },
    {
     "name": "stdout",
     "output_type": "stream",
     "text": [
      "\nreturn 1.26%"
     ]
    },
    {
     "name": "stdout",
     "output_type": "stream",
     "text": [
      "\nvolatility 7.76%"
     ]
    },
    {
     "name": "stdout",
     "output_type": "stream",
     "text": [
      "\nSharpe 13.88%"
     ]
    },
    {
     "name": "stdout",
     "output_type": "stream",
     "text": [
      "\n\nstock\nreturn 1.29%"
     ]
    },
    {
     "name": "stdout",
     "output_type": "stream",
     "text": [
      "\nvolatility 23.63%"
     ]
    },
    {
     "name": "stdout",
     "output_type": "stream",
     "text": [
      "\nSharpe 4.66%"
     ]
    },
    {
     "name": "stdout",
     "output_type": "stream",
     "text": [
      "\n\nunhedged blend concentration 20%:"
     ]
    },
    {
     "name": "stdout",
     "output_type": "stream",
     "text": [
      "\nreturn 1.27%"
     ]
    },
    {
     "name": "stdout",
     "output_type": "stream",
     "text": [
      "\nvolatility 9.36%"
     ]
    },
    {
     "name": "stdout",
     "output_type": "stream",
     "text": [
      "\nSharpe 11.56%"
     ]
    },
    {
     "name": "stdout",
     "output_type": "stream",
     "text": [
      "\n\ncollared:"
     ]
    },
    {
     "name": "stdout",
     "output_type": "stream",
     "text": [
      "\nreturn 1.11%"
     ]
    },
    {
     "name": "stdout",
     "output_type": "stream",
     "text": [
      "\nvolatility 6.95%"
     ]
    },
    {
     "name": "stdout",
     "output_type": "stream",
     "text": [
      "\nSharpe 13.35%"
     ]
    },
    {
     "name": "stdout",
     "output_type": "stream",
     "text": [
      "\n\nputs:"
     ]
    },
    {
     "name": "stdout",
     "output_type": "stream",
     "text": [
      "\nreturn 1.45%"
     ]
    },
    {
     "name": "stdout",
     "output_type": "stream",
     "text": [
      "\nvolatility 8.27%"
     ]
    },
    {
     "name": "stdout",
     "output_type": "stream",
     "text": [
      "\nSharpe 15.27%"
     ]
    },
    {
     "name": "stdout",
     "output_type": "stream",
     "text": [
      "\n\ncalls:"
     ]
    },
    {
     "name": "stdout",
     "output_type": "stream",
     "text": [
      "\nreturn 0.93%"
     ]
    },
    {
     "name": "stdout",
     "output_type": "stream",
     "text": [
      "\nvolatility 8.04%"
     ]
    },
    {
     "name": "stdout",
     "output_type": "stream",
     "text": [
      "\nSharpe 9.26%"
     ]
    },
    {
     "name": "stdout",
     "output_type": "stream",
     "text": [
      "\n\n4.75 months out\nSPY"
     ]
    },
    {
     "name": "stdout",
     "output_type": "stream",
     "text": [
      "\nreturn 3.01%"
     ]
    },
    {
     "name": "stdout",
     "output_type": "stream",
     "text": [
      "\nvolatility 11.96%"
     ]
    },
    {
     "name": "stdout",
     "output_type": "stream",
     "text": [
      "\nSharpe 21.54%"
     ]
    },
    {
     "name": "stdout",
     "output_type": "stream",
     "text": [
      "\n\nstock\nreturn 3.04%\nvolatility 36.42%"
     ]
    },
    {
     "name": "stdout",
     "output_type": "stream",
     "text": [
      "\nSharpe 7.16%"
     ]
    },
    {
     "name": "stdout",
     "output_type": "stream",
     "text": [
      "\n\nunhedged blend concentration 20%:"
     ]
    },
    {
     "name": "stdout",
     "output_type": "stream",
     "text": [
      "\nreturn 3.02%"
     ]
    },
    {
     "name": "stdout",
     "output_type": "stream",
     "text": [
      "\nvolatility 14.40%"
     ]
    },
    {
     "name": "stdout",
     "output_type": "stream",
     "text": [
      "\nSharpe 17.92%"
     ]
    },
    {
     "name": "stdout",
     "output_type": "stream",
     "text": [
      "\n\ncollared:"
     ]
    },
    {
     "name": "stdout",
     "output_type": "stream",
     "text": [
      "\nreturn 2.64%"
     ]
    },
    {
     "name": "stdout",
     "output_type": "stream",
     "text": [
      "\nvolatility 10.37%"
     ]
    },
    {
     "name": "stdout",
     "output_type": "stream",
     "text": [
      "\nSharpe 21.27%"
     ]
    },
    {
     "name": "stdout",
     "output_type": "stream",
     "text": [
      "\n\nputs:"
     ]
    },
    {
     "name": "stdout",
     "output_type": "stream",
     "text": [
      "\nreturn 3.25%"
     ]
    },
    {
     "name": "stdout",
     "output_type": "stream",
     "text": [
      "\nvolatility 12.67%"
     ]
    },
    {
     "name": "stdout",
     "output_type": "stream",
     "text": [
      "\nSharpe 22.20%"
     ]
    },
    {
     "name": "stdout",
     "output_type": "stream",
     "text": [
      "\n\ncalls:"
     ]
    },
    {
     "name": "stdout",
     "output_type": "stream",
     "text": [
      "\nreturn 2.41%"
     ]
    },
    {
     "name": "stdout",
     "output_type": "stream",
     "text": [
      "\nvolatility 12.09%"
     ]
    },
    {
     "name": "stdout",
     "output_type": "stream",
     "text": [
      "\nSharpe 16.32%"
     ]
    },
    {
     "name": "stdout",
     "output_type": "stream",
     "text": [
      "\n"
     ]
    }
   ],
   "source": [
    "# In this cell we do the math\n",
    "\n",
    "import finance_helpers as fh\n",
    "\n",
    "CONCENTRATION = 0.2 # portfolio concentration\n",
    "\n",
    "COLLAR_MIN = 0.928\n",
    "\n",
    "def print_stats(return_set, risk_free_rate):\n",
    "    print 'return %0.2f%%' % (100*fh.average_log_return(return_set))\n",
    "    print 'volatility %0.2f%%' % (100*fh.volatility_of_returns(return_set))\n",
    "    print 'Sharpe %0.2f%%'% (100*fh.sharpe_ratio(return_set, risk_free_rate))\n",
    "    \n",
    "\n",
    "def analyze(return_set, collar_max, premium, risk_free_rate=fh.RISK_FREE_RATE,):\n",
    "    \"\"\"analyze the returns\"\"\"\n",
    "    #print return_set\n",
    "    spy_returns, stock_returns = zip(*return_set)\n",
    "    print 'SPY'\n",
    "    print_stats(spy_returns, risk_free_rate)\n",
    "    \n",
    "    print '\\nstock'\n",
    "    print_stats(stock_returns, risk_free_rate)\n",
    "    \n",
    "    blended = fh.blend_returns(stock_returns, spy_returns, CONCENTRATION)\n",
    "    print '\\nunhedged blend concentration %2.f%%:' % (100*CONCENTRATION)\n",
    "    print_stats(blended, risk_free_rate)\n",
    "    \n",
    "    \n",
    "    collared_returns = fh.apply_collar(stock_returns, min_strike=COLLAR_MIN,\n",
    "                                    max_strike=collar_max)\n",
    "    blended = fh.blend_returns(collared_returns, spy_returns, CONCENTRATION)\n",
    "    print '\\ncollared:'\n",
    "    print_stats(blended, risk_free_rate)\n",
    "    \n",
    "    \n",
    "    # TODO: All these premiums are only for 2 months!\n",
    "    \n",
    "    # pure puts    \n",
    "    put_returns = fh.apply_protected_put(stock_returns, \n",
    "                            strike=COLLAR_MIN, premium=premium)\n",
    "    blended = fh.blend_returns(put_returns, spy_returns, CONCENTRATION)\n",
    "    print '\\nputs:'\n",
    "    print_stats(blended, risk_free_rate)\n",
    "    \n",
    "    # pure calls\n",
    "    call_returns = fh.apply_covered_call(stock_returns, \n",
    "                            strike=collar_max, premium=premium)\n",
    "    blended = fh.blend_returns(call_returns, spy_returns, CONCENTRATION)\n",
    "    print '\\ncalls:'\n",
    "    print_stats(blended, risk_free_rate)\n",
    "    \n",
    "    \n",
    "# zero priced collar w.r.t. collar_min\n",
    "collar_max =  {\n",
    "    2/12.0 : 1.097,\n",
    "    4.75/12.0 : 1.119\n",
    "}\n",
    "premium = {\n",
    "    2/12.0 : 0.0458,\n",
    "    4.75/12.0 : 0.0840\n",
    "}\n",
    "\n",
    "for sim_time, return_set in zip(sim_times, sim_data):\n",
    "    print '\\n%0.2f months out' % (sim_time * 12)\n",
    "    analyze(return_set, collar_max=collar_max[sim_time],\n",
    "            premium=premium[sim_time],\n",
    "            risk_free_rate=fh.RISK_FREE_RATE*sim_time)    \n",
    "\n",
    "    "
   ]
  }
 ],
 "metadata": {
  "kernelspec": {
   "display_name": "Python 2",
   "language": "python",
   "name": "python2"
  },
  "language_info": {
   "codemirror_mode": {
    "name": "ipython",
    "version": 2
   },
   "file_extension": ".py",
   "mimetype": "text/x-python",
   "name": "python",
   "nbconvert_exporter": "python",
   "pygments_lexer": "ipython2",
   "version": "2.7.6"
  }
 },
 "nbformat": 4,
 "nbformat_minor": 0
}
