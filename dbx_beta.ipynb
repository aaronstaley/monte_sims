{
 "cells": [
  {
   "cell_type": "code",
   "execution_count": 5,
   "metadata": {
    "collapsed": true
   },
   "outputs": [],
   "source": [
    "import math\n",
    "import numpy as np\n",
    "\n",
    "import pandas as pd\n",
    "from pandas_datareader import data as pdr\n",
    "from alpha_beta import linreg, calc_correlation, print_info, DAYS\n",
    "\n",
    "START = '2011-08-28'\n",
    "END = '2018-10-26'\n",
    "\n",
    "# spy/dbx\n",
    "spy = pdr.get_data_yahoo('spy', start=START, end=END)\n",
    "dbx = pdr.get_data_yahoo('dbx', start=START, end=END)\n",
    "team = pdr.get_data_yahoo('team', start=START, end=END)\n",
    "vgt = pdr.get_data_yahoo('vgt', start=START, end=END)\n",
    "vwehx = pdr.get_data_yahoo('vwehx', start=START, end=END)\n",
    "vbmfx = pdr.get_data_yahoo('vbmfx', start=START, end=END)\n",
    "\n",
    "return_spy = np.log1p(spy.Close.pct_change()[1:])\n",
    "return_dbx = np.log1p(dbx.Close.pct_change()[1:])\n",
    "return_team = np.log1p(team.Close.pct_change()[1:])\n",
    "return_vgt = np.log1p(vgt.Close.pct_change()[1:])\n",
    "return_vwehx = np.log1p(vwehx.Close.pct_change()[1:])\n",
    "return_vbmfx = np.log1p(vbmfx.Close.pct_change()[1:])\n"
   ]
  },
  {
   "cell_type": "code",
   "execution_count": 7,
   "metadata": {},
   "outputs": [
    {
     "name": "stdout",
     "output_type": "stream",
     "text": [
      "DBX returns -0.271429128751179\nDBX stdev 0.532835971182002\nvwehx returns 0.017889547963741023\nvwehx stdev 0.0338185304560859\nvbmfx returns -0.059367416355844776\nvbmfx stdev 0.03199766989909432\n\nvwehx:\nbase time return 0.7822129436060734\nbase stdev 0.13478384804904595\nalpha over time -0.057298337273921356\nbeta 0.09612201620065164\ncorrelation 0.3830945653472381\n\nvbmfx:\nbase time return 0.7822129436060734\nbase stdev 0.13478384804904595\nalpha over time 0.009689414306591556\nbeta -0.0882839273204532\ncorrelation -0.3718785612407916\n"
     ]
    }
   ],
   "source": [
    "# DBX vs. SPY stats\n",
    "\n",
    "print 'DBX returns', return_dbx.mean()*len(return_dbx)\n",
    "print 'DBX stdev', return_dbx.std()*math.sqrt(DAYS) # DBX var\n",
    "\n",
    "print 'vwehx returns', return_vwehx.mean()*len(return_vwehx)\n",
    "print 'vwehx stdev', return_vwehx.std()*math.sqrt(DAYS) # DBX var\n",
    "\n",
    "print 'vbmfx returns', return_vbmfx.mean()*len(return_vbmfx)\n",
    "print 'vbmfx stdev', return_vbmfx.std()*math.sqrt(DAYS) # DBX var\n",
    "\n",
    "\n",
    "# per ticker analysis\n",
    "\n",
    "\"\"\"\n",
    "print 'SPY:'\n",
    "print_info(return_spy, return_dbx)\n",
    "\n",
    "print '\\nTEAM:'\n",
    "print_info(return_team, return_dbx)\n",
    "\n",
    "print '\\nVGT:'\n",
    "print_info(return_vgt, return_dbx)\n",
    "\"\"\"\n",
    "print '\\nvwehx:'\n",
    "print_info(return_spy, return_vwehx)\n",
    "\n",
    "print '\\nvbmfx:'\n",
    "print_info(return_spy, return_vbmfx)"
   ]
  }
 ],
 "metadata": {
  "kernelspec": {
   "display_name": "Python 2",
   "language": "python",
   "name": "python2"
  },
  "language_info": {
   "codemirror_mode": {
    "name": "ipython",
    "version": 2
   },
   "file_extension": ".py",
   "mimetype": "text/x-python",
   "name": "python",
   "nbconvert_exporter": "python",
   "pygments_lexer": "ipython2",
   "version": "2.7.6"
  }
 },
 "nbformat": 4,
 "nbformat_minor": 0
}
