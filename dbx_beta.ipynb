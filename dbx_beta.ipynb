{
 "cells": [
  {
   "cell_type": "code",
   "execution_count": 12,
   "metadata": {
    "collapsed": true
   },
   "outputs": [],
   "source": [
    "import pandas as pd\n",
    "from pandas_datareader import data as pdr\n",
    "from alpha_beta import linreg\n",
    "\n",
    "START = '2018-08-28'\n",
    "END = '2018-10-26'\n",
    "\n",
    "# spy/dbx\n",
    "spy = pdr.get_data_yahoo('spy', start=START, end=END)\n",
    "dbx = pdr.get_data_yahoo('dbx', start=START, end=END)\n",
    "\n",
    "return_spy = spy.Close.pct_change()[1:]\n",
    "return_dbx = dbx.Close.pct_change()[1:]\n",
    "\n",
    "alpha, beta = linreg(return_spy, return_dbx)\n"
   ]
  },
  {
   "cell_type": "code",
   "execution_count": 23,
   "metadata": {},
   "outputs": [
    {
     "name": "stdout",
     "output_type": "stream",
     "text": [
      "alpha -0.00275487460053\nbeta 1.10585354793\nalpha -0.115704733222\nSPY stdev 0.160477714455\nDBX stdev 0.382495223963\n"
     ]
    }
   ],
   "source": [
    "# DBX vs. SPY stats\n",
    "\n",
    "import math\n",
    "\n",
    "print 'alpha', alpha\n",
    "print 'beta', beta\n",
    "\n",
    "DAYS = 250\n",
    "frames = float(len(return_spy))\n",
    "assert frames == len(return_dbx)\n",
    "\n",
    "print 'alpha', alpha*frames\n",
    "\n",
    "print 'SPY stdev', return_spy.std()*math.sqrt(DAYS) # SPY var\n",
    "print 'DBX stdev', return_dbx.std()*math.sqrt(DAYS) # DBX var\n"
   ]
  }
 ],
 "metadata": {
  "kernelspec": {
   "display_name": "Python 2",
   "language": "python",
   "name": "python2"
  },
  "language_info": {
   "codemirror_mode": {
    "name": "ipython",
    "version": 2
   },
   "file_extension": ".py",
   "mimetype": "text/x-python",
   "name": "python",
   "nbconvert_exporter": "python",
   "pygments_lexer": "ipython2",
   "version": "2.7.6"
  }
 },
 "nbformat": 4,
 "nbformat_minor": 0
}
