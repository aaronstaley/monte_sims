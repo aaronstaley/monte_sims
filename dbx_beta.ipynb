{
 "cells": [
  {
   "cell_type": "code",
   "execution_count": 1,
   "metadata": {
    "collapsed": true
   },
   "outputs": [
    {
     "name": "stderr",
     "output_type": "stream",
     "text": [
      "/usr/local/lib/python2.7/dist-packages/requests/__init__.py:83: RequestsDependencyWarning: Old version of cryptography ([1, 2, 3]) may cause slowdown.\n  warnings.warn(warning, RequestsDependencyWarning)\n/usr/local/lib/python2.7/dist-packages/pandas/core/computation/check.py:17: UserWarning: The installed version of numexpr 2.4.3 is not supported in pandas and will be not be used\nThe minimum supported version is 2.4.6\n\n  ver=ver, min_ver=_MIN_NUMEXPR_VERSION), UserWarning)\n"
     ]
    }
   ],
   "source": [
    "import math\n",
    "import numpy as np\n",
    "\n",
    "import pandas as pd\n",
    "from pandas_datareader import data as pdr\n",
    "from alpha_beta import linreg, calc_correlation, print_info, DAYS\n",
    "\n",
    "START = '2018-08-28'\n",
    "END = '2018-10-26'\n",
    "\n",
    "# spy/dbx\n",
    "spy = pdr.get_data_yahoo('spy', start=START, end=END)\n",
    "dbx = pdr.get_data_yahoo('dbx', start=START, end=END)\n",
    "team = pdr.get_data_yahoo('team', start=START, end=END)\n",
    "vgt = pdr.get_data_yahoo('vgt', start=START, end=END)\n",
    "\n",
    "return_spy = np.log1p(spy.Close.pct_change()[1:])\n",
    "return_dbx = np.log1p(dbx.Close.pct_change()[1:])\n",
    "return_team = np.log1p(team.Close.pct_change()[1:])\n",
    "return_vgt = np.log1p(vgt.Close.pct_change()[1:])\n"
   ]
  },
  {
   "cell_type": "code",
   "execution_count": 2,
   "metadata": {},
   "outputs": [
    {
     "name": "stdout",
     "output_type": "stream",
     "text": [
      "DBX returns -0.223972355353\nDBX stdev 0.385888499811\nSPY:\nbase time return -0.0886307854943\nbase stdev 0.161488341806\nalpha over time -0.126499089533\nbeta 1.09976759516\ncorrelation 0.460235652012\n\nTEAM:\nbase time return -0.240519351675\nbase stdev 0.589471128731\nalpha over time -0.119052200031\nbeta 0.436223341662\ncorrelation 0.666361049149\n\nVGT:\nbase time return -0.0975694004242\nbase stdev 0.248379017505\nalpha over time -0.135983957949\nbeta 0.901803198758\ncorrelation 0.580450033106\n"
     ]
    }
   ],
   "source": [
    "# DBX vs. SPY stats\n",
    "\n",
    "print 'DBX returns', return_dbx.mean()*len(return_dbx)\n",
    "print 'DBX stdev', return_dbx.std()*math.sqrt(DAYS) # DBX var\n",
    "\n",
    "# per ticker analysis\n",
    "\n",
    "print 'SPY:'\n",
    "print_info(return_spy, return_dbx)\n",
    "\n",
    "print '\\nTEAM:'\n",
    "print_info(return_team, return_dbx)\n",
    "\n",
    "print '\\nVGT:'\n",
    "print_info(return_vgt, return_dbx)"
   ]
  }
 ],
 "metadata": {
  "kernelspec": {
   "display_name": "Python 2",
   "language": "python",
   "name": "python2"
  },
  "language_info": {
   "codemirror_mode": {
    "name": "ipython",
    "version": 2
   },
   "file_extension": ".py",
   "mimetype": "text/x-python",
   "name": "python",
   "nbconvert_exporter": "python",
   "pygments_lexer": "ipython2",
   "version": "2.7.6"
  }
 },
 "nbformat": 4,
 "nbformat_minor": 0
}
