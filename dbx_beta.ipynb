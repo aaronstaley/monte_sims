{
 "cells": [
  {
   "cell_type": "code",
   "execution_count": 11,
   "metadata": {
    "collapsed": true
   },
   "outputs": [],
   "source": [
    "import math\n",
    "import numpy as np\n",
    "\n",
    "import pandas as pd\n",
    "from pandas_datareader import data as pdr\n",
    "from alpha_beta import linreg, calc_correlation, print_info, DAYS\n",
    "\n",
    "START = '2018-8-28'\n",
    "END = '2018-10-31'\n",
    "\n",
    "# spy/dbx\n",
    "spy = pdr.get_data_yahoo('spy', start=START, end=END)\n",
    "dbx = pdr.get_data_yahoo('dbx', start=START, end=END)\n",
    "team = pdr.get_data_yahoo('team', start=START, end=END)\n",
    "vgt = pdr.get_data_yahoo('vgt', start=START, end=END)\n",
    "\n",
    "return_spy = np.log1p(spy.Close.pct_change()[1:])\n",
    "return_dbx = np.log1p(dbx.Close.pct_change()[1:])\n",
    "return_team = np.log1p(team.Close.pct_change()[1:])\n",
    "return_vgt = np.log1p(vgt.Close.pct_change()[1:])\n"
   ]
  },
  {
   "cell_type": "code",
   "execution_count": 12,
   "metadata": {},
   "outputs": [
    {
     "name": "stdout",
     "output_type": "stream",
     "text": [
      "DBX returns -0.135426751891\nDBX stdev 0.3915769836\nDBX:\nbase time return -0.0582668492002\nbase stdev 0.164355181403\nalpha over time -0.0651197862834\nbeta 1.2066375061\ncorrelation 0.50645756648\n\nTEAM:\nbase time return -0.0582668492002\nbase stdev 0.164355181403\nalpha over time -0.0223945185122\nbeta 1.89675318478\ncorrelation 0.526367262704\n\nVGT:\nbase time return -0.0582668492002\nbase stdev 0.164355181403\nalpha over time 0.0188256065415\nbeta 1.41714116152\ncorrelation 0.922973910594\n"
     ]
    }
   ],
   "source": [
    "# DBX vs. SPY stats\n",
    "\n",
    "print 'DBX returns', return_dbx.mean()*len(return_dbx)\n",
    "print 'DBX stdev', return_dbx.std()*math.sqrt(DAYS) # DBX var\n",
    "\n",
    "# per ticker analysis\n",
    "\n",
    "print 'DBX:'\n",
    "print_info(return_spy, return_dbx)\n",
    "\n",
    "print '\\nTEAM:'\n",
    "print_info(return_spy, return_team)\n",
    "\n",
    "print '\\nVGT:'\n",
    "print_info(return_spy, return_vgt)"
   ]
  }
 ],
 "metadata": {
  "kernelspec": {
   "display_name": "Python 2",
   "language": "python",
   "name": "python2"
  },
  "language_info": {
   "codemirror_mode": {
    "name": "ipython",
    "version": 2
   },
   "file_extension": ".py",
   "mimetype": "text/x-python",
   "name": "python",
   "nbconvert_exporter": "python",
   "pygments_lexer": "ipython2",
   "version": "2.7.6"
  }
 },
 "nbformat": 4,
 "nbformat_minor": 0
}
