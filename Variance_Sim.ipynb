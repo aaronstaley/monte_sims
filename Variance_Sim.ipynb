{
 "metadata": {
  "name": "",
  "signature": "sha256:383c29324c46826e6b797c118fa070a748cfd37f75b1b59db3555a04ee163841"
 },
 "nbformat": 3,
 "nbformat_minor": 0,
 "worksheets": [
  {
   "cells": [
    {
     "cell_type": "code",
     "collapsed": false,
     "input": [
      "import numpy as np\n",
      "\n",
      "import monte_carlo\n",
      "import gbm\n",
      "\n",
      "MEAN = 0.095 # log return of 10% return\n",
      "V1 = 0.05\n",
      "V2 = 0.1\n",
      "\n",
      "TRIES = 10000\n",
      "LENGTH = 100\n",
      "\n",
      "S1_process = monte_carlo.monte_carlo(gbm.generate_brownian_motion, tries=TRIES, total_time=LENGTH, sim_period=1, mean=MEAN, stdev=V1)\n",
      "S2_process = monte_carlo.monte_carlo(gbm.generate_brownian_motion, tries=TRIES, total_time=LENGTH, sim_period=1, mean=MEAN, stdev=V2)\n",
      "\n",
      "# last returns\n",
      "S1 = [process[-1] for process in S1_process]\n",
      "\n",
      "print 's1 return %0.2f%%' % np.mean(S1)\n",
      "print 's2 return %0.2f%%' % np.mean(S2)\n",
      "                             \n",
      "                             \n",
      "print len(S1), S1[0]\n"
     ],
     "language": "python",
     "metadata": {},
     "outputs": [
      {
       "output_type": "stream",
       "stream": "stdout",
       "text": [
        "s1 return 1432.81%\n",
        "s2 return 1415.42%\n",
        "10000 [  9.95064856e-01   1.08773566e+00   1.23595854e+00   1.40239062e+00\n",
        "   1.46826925e+00   1.51592345e+00   1.64848264e+00   1.89156304e+00\n",
        "   2.28144523e+00   2.54843986e+00   2.83289878e+00   3.29456482e+00\n",
        "   3.70127258e+00   3.69823856e+00   3.77419994e+00   4.42313792e+00\n",
        "   4.91376445e+00   5.64485106e+00   6.36307504e+00   7.18091311e+00\n",
        "   7.71515366e+00   8.64489154e+00   9.30643501e+00   9.82101662e+00\n",
        "   1.04077806e+01   1.11084909e+01   1.20212643e+01   1.37010265e+01\n",
        "   1.46426206e+01   1.56992945e+01   1.66997130e+01   1.88434466e+01\n",
        "   2.09263029e+01   2.21893051e+01   2.52610200e+01   2.74598094e+01\n",
        "   2.96223537e+01   3.27761499e+01   3.41331330e+01   3.76661699e+01\n",
        "   3.85614010e+01   4.19213985e+01   4.83431048e+01   5.13476148e+01\n",
        "   5.99182081e+01   6.27458953e+01   6.74838461e+01   7.06378032e+01\n",
        "   8.18016077e+01   9.45071127e+01   1.02708300e+02   1.17048234e+02\n",
        "   1.32625204e+02   1.50615212e+02   1.64587778e+02   1.82760166e+02\n",
        "   2.17846999e+02   2.33982812e+02   2.60495201e+02   2.71307797e+02\n",
        "   3.12117704e+02   3.16105868e+02   3.65864155e+02   3.75332752e+02\n",
        "   4.42164548e+02   4.60682711e+02   4.72952126e+02   5.34568966e+02\n",
        "   6.01340125e+02   6.50824873e+02   6.89354230e+02   7.74147187e+02\n",
        "   8.50341738e+02   9.34226386e+02   1.01743644e+03   1.12308373e+03\n",
        "   1.24788915e+03   1.41936382e+03   1.60643454e+03   1.87549948e+03\n",
        "   1.81568430e+03   2.08536892e+03   2.31784274e+03   2.56924017e+03\n",
        "   3.00293117e+03   3.33315254e+03   3.71659985e+03   4.01759048e+03\n",
        "   4.58377282e+03   5.16117979e+03   5.57061885e+03   6.22335779e+03\n",
        "   6.40567660e+03   7.10488386e+03   8.04711945e+03   7.92271459e+03\n",
        "   9.33268702e+03   1.07178901e+04   1.17175286e+04   1.33982884e+04]\n"
       ]
      }
     ],
     "prompt_number": 2
    },
    {
     "cell_type": "code",
     "collapsed": false,
     "input": [],
     "language": "python",
     "metadata": {},
     "outputs": [],
     "prompt_number": 14
    },
    {
     "cell_type": "code",
     "collapsed": false,
     "input": [
      "import numpy as np\n",
      "\n",
      "import monte_carlo\n",
      "import gbm\n",
      "\n",
      "MEAN = 0.095 # log return of 10% return\n",
      "V1 = 0.05\n",
      "V2 = 0.1\n",
      "\n",
      "TRIES = 1000000\n",
      "LENGTH = 100\n",
      "\n",
      "S1 = monte_carlo.monte_carlo(gbm.generate_brownian_motion, tries=TRIES, total_time=LENGTH, sim_period=1, mean=MEAN, stdev=V1)\n",
      "S2 = monte_carlo.monte_carlo(gbm.generate_brownian_motion, tries=TRIES, total_time=LENGTH, sim_period=1, mean=MEAN, stdev=V2)\n",
      "\n",
      "print 's1 return %0.2f%%' % np.mean(S1)\n",
      "print 's2 return %0.2f%%' % np.mean(S2)\n",
      "                             "
     ],
     "language": "python",
     "metadata": {},
     "outputs": [
      {
       "output_type": "stream",
       "stream": "stdout",
       "text": [
        "s1 return 1460.10%\n",
        "s2 return 1461.66%"
       ]
      },
      {
       "output_type": "stream",
       "stream": "stdout",
       "text": [
        "\n"
       ]
      }
     ],
     "prompt_number": 27
    },
    {
     "cell_type": "code",
     "collapsed": false,
     "input": [],
     "language": "python",
     "metadata": {},
     "outputs": []
    }
   ],
   "metadata": {}
  }
 ]
}