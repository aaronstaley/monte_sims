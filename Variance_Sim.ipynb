{
 "cells": [
  {
   "cell_type": "code",
   "execution_count": 19,
   "metadata": {},
   "outputs": [
    {
     "name": "stdout",
     "output_type": "stream",
     "text": [
      "s1 return 182833725630847471829157599123328108331008.00\n",
      "s2 return 53636687955768138575542744154353172480.00\n",
      "9999000 [0.9981417705004394, 0.92329707485134982, 0.99709478455018818, 1.0365089134153553, 1.0446462809171333, 0.99219440266912717, 1.1055582134646862, 1.0561683961552693, 0.96177473699501814, 0.98260683171104679, 0.99233442394812976, 1.0531208271832873, 0.97072712116905391, 0.99144330850597917, 0.9648073594088179, 0.97764474828797876, 1.0944027415733855, 1.0571344270865222, 0.94366276881372368, 1.0289800722737388, 1.0554678870976351, 0.9206579034066692, 1.032901903192325, 1.1064215004568732, 1.0998215431001501, 1.0784940269312016, 1.0014225238463368, 0.95145134619581651, 1.0066470097101758, 1.0898735382754023, 1.1025620499698126, 1.0664212280440608, 1.0071803776497275, 1.1140495325342039, 1.0395904685288175, 1.101329852141087, 0.97303814449932757, 0.96080321911410715, 0.97256764791584938, 0.96974945242092558, 0.91914085740998452, 1.0368609085871445, 0.99754148546746657, 0.95688665158793973, 0.96112388080037059, 0.95546304634783452, 1.0127047155551665, 0.97411432535655273, 0.85889453014157779, 1.0128464726120849, 1.0727307990869412, 0.96656185745913792, 0.99584851365100113, 1.035832017501795, 1.0500380696310239, 1.0132761999344861, 0.95154559786629955, 0.88464784239943217, 0.98192725365510813, 1.0328492370329037, 0.96263148645795138, 0.99982258579753358, 0.97275440861954354, 0.93685333962832917, 0.9519443839253855, 0.9629169466646228, 1.0131491312079595, 0.95255456198911781, 0.98235880150518151, 0.98747585999054943, 0.94641884937849452, 1.0563761581711308, 0.94923758332169494, 1.0043353690480719, 1.0077144733356058, 1.0149578736663254, 1.0484538081012691, 0.91726920509657262, 1.0479225036752942, 1.0001156121816455, 0.9449354733916745, 1.0110577532208194, 1.0327820598951225, 0.93117657343708782, 1.0832260376559391, 1.0664433243669262, 1.0203288211109847, 0.96123196609597605, 0.98428522991933654, 0.92491873688376325, 0.96918327957659445, 0.95499346697011978, 1.0182289011882413, 0.94308430187894321, 1.0040348535868189, 0.99848264060005809, 1.062067317366828, 0.97884617413136576, 1.0483437311285722, 1.0761638015666062]\n",
      "s1 return 1.009547%"
     ]
    },
    {
     "name": "stdout",
     "output_type": "stream",
     "text": [
      "\n",
      "s2 return 1.009608%"
     ]
    },
    {
     "name": "stdout",
     "output_type": "stream",
     "text": [
      "\n"
     ]
    }
   ],
   "source": [
    "import numpy as np\n",
    "\n",
    "import monte_carlo\n",
    "import gbm\n",
    "\n",
    "MEAN = 0.0095 # log return of 10% return\n",
    "V1 = 0.001\n",
    "V2 = 0.06\n",
    "\n",
    "TRIES = 1002\n",
    "LENGTH = 10000\n",
    "\n",
    "S1_process = monte_carlo.monte_carlo(gbm.generate_brownian_motion, tries=TRIES, total_time=LENGTH, sim_period=1, mean=MEAN, stdev=V1)\n",
    "S2_process = monte_carlo.monte_carlo(gbm.generate_brownian_motion, tries=TRIES, total_time=LENGTH, sim_period=1, mean=MEAN, stdev=V2)\n",
    "\n",
    "# last returns\n",
    "S1 = [process[-1] for process in S1_process]\n",
    "S2 = [process[-1] for process in S2_process]\n",
    "\n",
    "del process\n",
    "\n",
    "S1_returns = [process[i]/process[i-1] for process in S1_process for i in range(1, len(process)) ]\n",
    "S2_returns = [process[i]/process[i-1] for process in S2_process for i in range(1, len(process)) ]\n",
    "\n",
    "\n",
    "print 's1 return %0.2f' % np.mean(S1)\n",
    "print 's2 return %0.2f' % np.mean(S2)\n",
    " \n",
    "print len(S2_returns), S2_returns[0:100]\n",
    "# arithmetic\n",
    "print 's1 return %0.6f%%' % np.mean(S1_returns)\n",
    "print 's2 return %0.6f%%' % np.mean(S2_returns)"
   ]
  },
  {
   "cell_type": "code",
   "execution_count": 16,
   "metadata": {},
   "outputs": [],
   "source": [
    ""
   ]
  },
  {
   "cell_type": "code",
   "execution_count": 2,
   "metadata": {},
   "outputs": [
    {
     "ename": "KeyboardInterrupt",
     "evalue": "",
     "traceback": [
      "\u001b[0;31m---------------------------------------------------------------------------\u001b[0m\n\u001b[0;31mKeyboardInterrupt\u001b[0m                         Traceback (most recent call last)",
      "\u001b[0;32m<ipython-input-2-09245b9ec8ab>\u001b[0m in \u001b[0;36m<module>\u001b[0;34m()\u001b[0m\n\u001b[1;32m     11\u001b[0m \u001b[0mLENGTH\u001b[0m \u001b[0;34m=\u001b[0m \u001b[0;36m100\u001b[0m\u001b[0;34m\u001b[0m\u001b[0m\n\u001b[1;32m     12\u001b[0m \u001b[0;34m\u001b[0m\u001b[0m\n\u001b[0;32m---> 13\u001b[0;31m \u001b[0mS1_process\u001b[0m \u001b[0;34m=\u001b[0m \u001b[0mmonte_carlo\u001b[0m\u001b[0;34m.\u001b[0m\u001b[0mmonte_carlo\u001b[0m\u001b[0;34m(\u001b[0m\u001b[0mgbm\u001b[0m\u001b[0;34m.\u001b[0m\u001b[0mgenerate_brownian_motion\u001b[0m\u001b[0;34m,\u001b[0m \u001b[0mtries\u001b[0m\u001b[0;34m=\u001b[0m\u001b[0mTRIES\u001b[0m\u001b[0;34m,\u001b[0m \u001b[0mtotal_time\u001b[0m\u001b[0;34m=\u001b[0m\u001b[0mLENGTH\u001b[0m\u001b[0;34m,\u001b[0m \u001b[0msim_period\u001b[0m\u001b[0;34m=\u001b[0m\u001b[0;36m1\u001b[0m\u001b[0;34m,\u001b[0m \u001b[0mmean\u001b[0m\u001b[0;34m=\u001b[0m\u001b[0mMEAN\u001b[0m\u001b[0;34m,\u001b[0m \u001b[0mstdev\u001b[0m\u001b[0;34m=\u001b[0m\u001b[0mV1\u001b[0m\u001b[0;34m)\u001b[0m\u001b[0;34m\u001b[0m\u001b[0m\n\u001b[0m\u001b[1;32m     14\u001b[0m \u001b[0mS2_process\u001b[0m \u001b[0;34m=\u001b[0m \u001b[0mmonte_carlo\u001b[0m\u001b[0;34m.\u001b[0m\u001b[0mmonte_carlo\u001b[0m\u001b[0;34m(\u001b[0m\u001b[0mgbm\u001b[0m\u001b[0;34m.\u001b[0m\u001b[0mgenerate_brownian_motion\u001b[0m\u001b[0;34m,\u001b[0m \u001b[0mtries\u001b[0m\u001b[0;34m=\u001b[0m\u001b[0mTRIES\u001b[0m\u001b[0;34m,\u001b[0m \u001b[0mtotal_time\u001b[0m\u001b[0;34m=\u001b[0m\u001b[0mLENGTH\u001b[0m\u001b[0;34m,\u001b[0m \u001b[0msim_period\u001b[0m\u001b[0;34m=\u001b[0m\u001b[0;36m1\u001b[0m\u001b[0;34m,\u001b[0m \u001b[0mmean\u001b[0m\u001b[0;34m=\u001b[0m\u001b[0mMEAN\u001b[0m\u001b[0;34m,\u001b[0m \u001b[0mstdev\u001b[0m\u001b[0;34m=\u001b[0m\u001b[0mV2\u001b[0m\u001b[0;34m)\u001b[0m\u001b[0;34m\u001b[0m\u001b[0m\n\u001b[1;32m     15\u001b[0m \u001b[0;34m\u001b[0m\u001b[0m\n",
      "\u001b[0;32m/home/astaley/monte_sims/monte_carlo.pyc\u001b[0m in \u001b[0;36mmonte_carlo\u001b[0;34m(func, tries, single_batch_size, **kwargs)\u001b[0m\n\u001b[1;32m     18\u001b[0m \u001b[0;34m\u001b[0m\u001b[0m\n\u001b[1;32m     19\u001b[0m     future_res = [pool.apply_async(monte_carlo_single, singular_args, kwargs) for _ in\n\u001b[0;32m---> 20\u001b[0;31m                   xrange(tries / single_batch_size)]\n\u001b[0m\u001b[1;32m     21\u001b[0m     \u001b[0mres\u001b[0m \u001b[0;34m=\u001b[0m \u001b[0;34m[\u001b[0m\u001b[0;34m]\u001b[0m\u001b[0;34m\u001b[0m\u001b[0m\n\u001b[1;32m     22\u001b[0m     \u001b[0;32mfor\u001b[0m \u001b[0mf\u001b[0m \u001b[0;32min\u001b[0m \u001b[0mfuture_res\u001b[0m\u001b[0;34m:\u001b[0m\u001b[0;34m\u001b[0m\u001b[0m\n",
      "\u001b[0;32m/usr/lib/python2.7/multiprocessing/pool.pyc\u001b[0m in \u001b[0;36mapply_async\u001b[0;34m(self, func, args, kwds, callback)\u001b[0m\n\u001b[1;32m    292\u001b[0m         '''\n\u001b[1;32m    293\u001b[0m         \u001b[0;32massert\u001b[0m \u001b[0mself\u001b[0m\u001b[0;34m.\u001b[0m\u001b[0m_state\u001b[0m \u001b[0;34m==\u001b[0m \u001b[0mRUN\u001b[0m\u001b[0;34m\u001b[0m\u001b[0m\n\u001b[0;32m--> 294\u001b[0;31m         \u001b[0mresult\u001b[0m \u001b[0;34m=\u001b[0m \u001b[0mApplyResult\u001b[0m\u001b[0;34m(\u001b[0m\u001b[0mself\u001b[0m\u001b[0;34m.\u001b[0m\u001b[0m_cache\u001b[0m\u001b[0;34m,\u001b[0m \u001b[0mcallback\u001b[0m\u001b[0;34m)\u001b[0m\u001b[0;34m\u001b[0m\u001b[0m\n\u001b[0m\u001b[1;32m    295\u001b[0m         \u001b[0mself\u001b[0m\u001b[0;34m.\u001b[0m\u001b[0m_taskqueue\u001b[0m\u001b[0;34m.\u001b[0m\u001b[0mput\u001b[0m\u001b[0;34m(\u001b[0m\u001b[0;34m(\u001b[0m\u001b[0;34m[\u001b[0m\u001b[0;34m(\u001b[0m\u001b[0mresult\u001b[0m\u001b[0;34m.\u001b[0m\u001b[0m_job\u001b[0m\u001b[0;34m,\u001b[0m \u001b[0mNone\u001b[0m\u001b[0;34m,\u001b[0m \u001b[0mfunc\u001b[0m\u001b[0;34m,\u001b[0m \u001b[0margs\u001b[0m\u001b[0;34m,\u001b[0m \u001b[0mkwds\u001b[0m\u001b[0;34m)\u001b[0m\u001b[0;34m]\u001b[0m\u001b[0;34m,\u001b[0m \u001b[0mNone\u001b[0m\u001b[0;34m)\u001b[0m\u001b[0;34m)\u001b[0m\u001b[0;34m\u001b[0m\u001b[0m\n\u001b[1;32m    296\u001b[0m         \u001b[0;32mreturn\u001b[0m \u001b[0mresult\u001b[0m\u001b[0;34m\u001b[0m\u001b[0m\n",
      "\u001b[0;32m/usr/lib/python2.7/multiprocessing/pool.pyc\u001b[0m in \u001b[0;36m__init__\u001b[0;34m(self, cache, callback)\u001b[0m\n\u001b[1;32m    536\u001b[0m \u001b[0;34m\u001b[0m\u001b[0m\n\u001b[1;32m    537\u001b[0m     \u001b[0;32mdef\u001b[0m \u001b[0m__init__\u001b[0m\u001b[0;34m(\u001b[0m\u001b[0mself\u001b[0m\u001b[0;34m,\u001b[0m \u001b[0mcache\u001b[0m\u001b[0;34m,\u001b[0m \u001b[0mcallback\u001b[0m\u001b[0;34m)\u001b[0m\u001b[0;34m:\u001b[0m\u001b[0;34m\u001b[0m\u001b[0m\n\u001b[0;32m--> 538\u001b[0;31m         \u001b[0mself\u001b[0m\u001b[0;34m.\u001b[0m\u001b[0m_cond\u001b[0m \u001b[0;34m=\u001b[0m \u001b[0mthreading\u001b[0m\u001b[0;34m.\u001b[0m\u001b[0mCondition\u001b[0m\u001b[0;34m(\u001b[0m\u001b[0mthreading\u001b[0m\u001b[0;34m.\u001b[0m\u001b[0mLock\u001b[0m\u001b[0;34m(\u001b[0m\u001b[0;34m)\u001b[0m\u001b[0;34m)\u001b[0m\u001b[0;34m\u001b[0m\u001b[0m\n\u001b[0m\u001b[1;32m    539\u001b[0m         \u001b[0mself\u001b[0m\u001b[0;34m.\u001b[0m\u001b[0m_job\u001b[0m \u001b[0;34m=\u001b[0m \u001b[0mjob_counter\u001b[0m\u001b[0;34m.\u001b[0m\u001b[0mnext\u001b[0m\u001b[0;34m(\u001b[0m\u001b[0;34m)\u001b[0m\u001b[0;34m\u001b[0m\u001b[0m\n\u001b[1;32m    540\u001b[0m         \u001b[0mself\u001b[0m\u001b[0;34m.\u001b[0m\u001b[0m_cache\u001b[0m \u001b[0;34m=\u001b[0m \u001b[0mcache\u001b[0m\u001b[0;34m\u001b[0m\u001b[0m\n",
      "\u001b[0;32m/usr/lib/python2.7/threading.pyc\u001b[0m in \u001b[0;36mCondition\u001b[0;34m(*args, **kwargs)\u001b[0m\n\u001b[1;32m    251\u001b[0m \u001b[0;34m\u001b[0m\u001b[0m\n\u001b[1;32m    252\u001b[0m     \"\"\"\n\u001b[0;32m--> 253\u001b[0;31m     \u001b[0;32mreturn\u001b[0m \u001b[0m_Condition\u001b[0m\u001b[0;34m(\u001b[0m\u001b[0;34m*\u001b[0m\u001b[0margs\u001b[0m\u001b[0;34m,\u001b[0m \u001b[0;34m**\u001b[0m\u001b[0mkwargs\u001b[0m\u001b[0;34m)\u001b[0m\u001b[0;34m\u001b[0m\u001b[0m\n\u001b[0m\u001b[1;32m    254\u001b[0m \u001b[0;34m\u001b[0m\u001b[0m\n\u001b[1;32m    255\u001b[0m \u001b[0;32mclass\u001b[0m \u001b[0m_Condition\u001b[0m\u001b[0;34m(\u001b[0m\u001b[0m_Verbose\u001b[0m\u001b[0;34m)\u001b[0m\u001b[0;34m:\u001b[0m\u001b[0;34m\u001b[0m\u001b[0m\n",
      "\u001b[0;32m/usr/lib/python2.7/threading.pyc\u001b[0m in \u001b[0;36m__init__\u001b[0;34m(self, lock, verbose)\u001b[0m\n\u001b[1;32m    258\u001b[0m     \"\"\"\n\u001b[1;32m    259\u001b[0m \u001b[0;34m\u001b[0m\u001b[0m\n\u001b[0;32m--> 260\u001b[0;31m     \u001b[0;32mdef\u001b[0m \u001b[0m__init__\u001b[0m\u001b[0;34m(\u001b[0m\u001b[0mself\u001b[0m\u001b[0;34m,\u001b[0m \u001b[0mlock\u001b[0m\u001b[0;34m=\u001b[0m\u001b[0mNone\u001b[0m\u001b[0;34m,\u001b[0m \u001b[0mverbose\u001b[0m\u001b[0;34m=\u001b[0m\u001b[0mNone\u001b[0m\u001b[0;34m)\u001b[0m\u001b[0;34m:\u001b[0m\u001b[0;34m\u001b[0m\u001b[0m\n\u001b[0m\u001b[1;32m    261\u001b[0m         \u001b[0m_Verbose\u001b[0m\u001b[0;34m.\u001b[0m\u001b[0m__init__\u001b[0m\u001b[0;34m(\u001b[0m\u001b[0mself\u001b[0m\u001b[0;34m,\u001b[0m \u001b[0mverbose\u001b[0m\u001b[0;34m)\u001b[0m\u001b[0;34m\u001b[0m\u001b[0m\n\u001b[1;32m    262\u001b[0m         \u001b[0;32mif\u001b[0m \u001b[0mlock\u001b[0m \u001b[0;32mis\u001b[0m \u001b[0mNone\u001b[0m\u001b[0;34m:\u001b[0m\u001b[0;34m\u001b[0m\u001b[0m\n",
      "\u001b[0;31mKeyboardInterrupt\u001b[0m: "
     ],
     "output_type": "error"
    }
   ],
   "source": [
    "import numpy as np\n",
    "\n",
    "import monte_carlo\n",
    "import gbm\n",
    "\n",
    "MEAN = 0.095 # log return of 10% return\n",
    "V1 = 0.05\n",
    "V2 = 0.1\n",
    "\n",
    "TRIES = 1000000\n",
    "LENGTH = 100\n",
    "\n",
    "S1_process = monte_carlo.monte_carlo(gbm.generate_brownian_motion, tries=TRIES, total_time=LENGTH, sim_period=1, mean=MEAN, stdev=V1)\n",
    "S2_process = monte_carlo.monte_carlo(gbm.generate_brownian_motion, tries=TRIES, total_time=LENGTH, sim_period=1, mean=MEAN, stdev=V2)\n",
    "\n",
    "# last returns\n",
    "S1 = [process[-1] for process in S1_process]\n",
    "S2 = [process[-1] for process in S2_process]\n",
    "\n",
    "print 's1 return %0.2f%%' % np.mean(S1)\n",
    "print 's2 return %0.2f%%' % np.mean(S2)"
   ]
  },
  {
   "cell_type": "code",
   "execution_count": null,
   "metadata": {},
   "outputs": [],
   "source": [
    ""
   ]
  }
 ],
 "metadata": {
  "name": "",
  "signature": "sha256:835b992911918a0cc05a636030d744684574cb91355362bd7410a036fd8d0a7d"
 },
 "nbformat": 4,
 "nbformat_minor": 0
}
