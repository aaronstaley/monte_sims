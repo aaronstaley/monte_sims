{
 "metadata": {
  "name": "",
  "signature": "sha256:eee73d4a8509bd05ab8ed0888d75219a379fb6c676e16a1da357af15395bd743"
 },
 "nbformat": 3,
 "nbformat_minor": 0,
 "worksheets": [
  {
   "cells": [
    {
     "cell_type": "code",
     "collapsed": false,
     "input": [
      "import numpy as np\n",
      "\n",
      "import monte_carlo\n",
      "import gbm\n",
      "\n",
      "MEAN = 0.095 # log return of 10% return\n",
      "V1 = 0.05\n",
      "V2 = 0.1\n",
      "\n",
      "TRIES = 10000\n",
      "LENGTH = 100\n",
      "\n",
      "S1_process = monte_carlo.monte_carlo(gbm.generate_brownian_motion, tries=TRIES, total_time=LENGTH, sim_period=1, mean=MEAN, stdev=V1)\n",
      "S2_process = monte_carlo.monte_carlo(gbm.generate_brownian_motion, tries=TRIES, total_time=LENGTH, sim_period=1, mean=MEAN, stdev=V2)\n",
      "\n",
      "# last returns\n",
      "S1 = [process[-1] for process in S1_process]\n",
      "S2 = [process[-1] for process in S2_process]\n",
      "\n",
      "print 's1 return %0.2f%%' % np.mean(S1)\n",
      "print 's2 return %0.2f%%' % np.mean(S2)\n",
      "                             \n",
      "                             "
     ],
     "language": "python",
     "metadata": {},
     "outputs": [
      {
       "output_type": "stream",
       "stream": "stdout",
       "text": [
        "s1 return 13108.31%\n",
        "s2 return 12973.82%\n"
       ]
      }
     ],
     "prompt_number": 3
    },
    {
     "cell_type": "code",
     "collapsed": false,
     "input": [],
     "language": "python",
     "metadata": {},
     "outputs": [],
     "prompt_number": 14
    },
    {
     "cell_type": "code",
     "collapsed": false,
     "input": [
      "import numpy as np\n",
      "\n",
      "import monte_carlo\n",
      "import gbm\n",
      "\n",
      "MEAN = 0.095 # log return of 10% return\n",
      "V1 = 0.05\n",
      "V2 = 0.1\n",
      "\n",
      "TRIES = 1000000\n",
      "LENGTH = 100\n",
      "\n",
      "S1_process = monte_carlo.monte_carlo(gbm.generate_brownian_motion, tries=TRIES, total_time=LENGTH, sim_period=1, mean=MEAN, stdev=V1)\n",
      "S2_process = monte_carlo.monte_carlo(gbm.generate_brownian_motion, tries=TRIES, total_time=LENGTH, sim_period=1, mean=MEAN, stdev=V2)\n",
      "\n",
      "# last returns\n",
      "S1 = [process[-1] for process in S1_process]\n",
      "S2 = [process[-1] for process in S2_process]\n",
      "\n",
      "print 's1 return %0.2f%%' % np.mean(S1)\n",
      "print 's2 return %0.2f%%' % np.mean(S2)\n",
      "                             "
     ],
     "language": "python",
     "metadata": {},
     "outputs": [
      {
       "output_type": "stream",
       "stream": "stdout",
       "text": [
        "s1 return 13366.70%\n",
        "s2 return 13370.19%"
       ]
      },
      {
       "output_type": "stream",
       "stream": "stdout",
       "text": [
        "\n"
       ]
      }
     ],
     "prompt_number": 4
    },
    {
     "cell_type": "code",
     "collapsed": false,
     "input": [],
     "language": "python",
     "metadata": {},
     "outputs": []
    }
   ],
   "metadata": {}
  }
 ]
}