{
 "metadata": {
  "name": "",
  "signature": "sha256:b4d713ee32c5904172b4ad06eb2c4e430c647dab2d5638c2e1700db63bed43fe"
 },
 "nbformat": 3,
 "nbformat_minor": 0,
 "worksheets": [
  {
   "cells": [
    {
     "cell_type": "code",
     "collapsed": false,
     "input": [
      "import numpy as np\n",
      "\n",
      "import monte_carlo\n",
      "import gbm\n",
      "\n",
      "MEAN = 0.095 # log return of 10% return\n",
      "V1 = 0.05\n",
      "V2 = 0.1\n",
      "\n",
      "TRIES = 10000\n",
      "LENGTH = 100\n",
      "\n",
      "S1 = monte_carlo.monte_carlo(gbm.generate_brownian_motion, tries=TRIES, total_time=LENGTH, sim_period=1, mean=MEAN, stdev=V1)\n",
      "S2 = monte_carlo.monte_carlo(gbm.generate_brownian_motion, tries=TRIES, total_time=LENGTH, sim_period=1, mean=MEAN, stdev=V2)\n",
      "\n",
      "print 's1 return %0.2f%%' % np.mean(S1)\n",
      "print 's2 return %0.2f%%' % np.mean(S2)\n",
      "                             \n",
      "                             \n",
      "\n"
     ],
     "language": "python",
     "metadata": {},
     "outputs": [
      {
       "output_type": "stream",
       "stream": "stdout",
       "text": [
        "s1 return 1438.12%\n",
        "s2 return 1423.39%\n"
       ]
      }
     ],
     "prompt_number": 25
    },
    {
     "cell_type": "code",
     "collapsed": false,
     "input": [],
     "language": "python",
     "metadata": {},
     "outputs": [],
     "prompt_number": 14
    },
    {
     "cell_type": "code",
     "collapsed": false,
     "input": [
      "import numpy as np\n",
      "\n",
      "import monte_carlo\n",
      "import gbm\n",
      "\n",
      "MEAN = 0.095 # log return of 10% return\n",
      "V1 = 0.05\n",
      "V2 = 0.1\n",
      "\n",
      "TRIES = 1000000\n",
      "LENGTH = 100\n",
      "\n",
      "S1 = monte_carlo.monte_carlo(gbm.generate_brownian_motion, tries=TRIES, total_time=LENGTH, sim_period=1, mean=MEAN, stdev=V1)\n",
      "S2 = monte_carlo.monte_carlo(gbm.generate_brownian_motion, tries=TRIES, total_time=LENGTH, sim_period=1, mean=MEAN, stdev=V2)\n",
      "\n",
      "print 's1 return %0.2f%%' % np.mean(S1)\n",
      "print 's2 return %0.2f%%' % np.mean(S2)\n",
      "                             "
     ],
     "language": "python",
     "metadata": {},
     "outputs": [
      {
       "output_type": "stream",
       "stream": "stdout",
       "text": [
        "s1 return 1460.10%\n",
        "s2 return 1461.66%"
       ]
      },
      {
       "output_type": "stream",
       "stream": "stdout",
       "text": [
        "\n"
       ]
      }
     ],
     "prompt_number": 27
    },
    {
     "cell_type": "code",
     "collapsed": false,
     "input": [],
     "language": "python",
     "metadata": {},
     "outputs": []
    }
   ],
   "metadata": {}
  }
 ]
}